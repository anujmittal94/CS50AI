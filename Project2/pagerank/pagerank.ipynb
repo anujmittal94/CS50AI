{
 "cells": [
  {
   "cell_type": "code",
   "execution_count": 4,
   "id": "hundred-midwest",
   "metadata": {},
   "outputs": [],
   "source": [
    "import os\n",
    "import random\n",
    "import re\n",
    "import sys\n",
    "\n",
    "def crawl(directory):\n",
    "    \"\"\"\n",
    "    Parse a directory of HTML pages and check for links to other pages.\n",
    "    Return a dictionary where each key is a page, and values are\n",
    "    a list of all other pages in the corpus that are linked to by the page.\n",
    "    \"\"\"\n",
    "    pages = dict()\n",
    "\n",
    "    # Extract all links from HTML files\n",
    "    for filename in os.listdir(directory):\n",
    "        if not filename.endswith(\".html\"):\n",
    "            continue\n",
    "        with open(os.path.join(directory, filename)) as f:\n",
    "            contents = f.read()\n",
    "            links = re.findall(r\"<a\\s+(?:[^>]*?)href=\\\"([^\\\"]*)\\\"\", contents)\n",
    "            pages[filename] = set(links) - {filename}\n",
    "    # Only include links to other pages in the corpus\n",
    "    for filename in pages:\n",
    "        pages[filename] = set(\n",
    "            link for link in pages[filename]\n",
    "            if link in pages\n",
    "        )\n",
    "    return pages"
   ]
  },
  {
   "cell_type": "code",
   "execution_count": 65,
   "id": "broke-inspector",
   "metadata": {},
   "outputs": [],
   "source": [
    "def transition_model(corpus, page, damping_factor):\n",
    "    \"\"\"\n",
    "    Return a probability distribution over which page to visit next,\n",
    "    given a current page.\n",
    "\n",
    "    With probability `damping_factor`, choose a link at random\n",
    "    linked to by `page`. With probability `1 - damping_factor`, choose\n",
    "    a link at random chosen from all pages in the corpus.\n",
    "    \"\"\"\n",
    "    model = dict()\n",
    "    num_pages = len(corpus)\n",
    "    num_links = len(corpus[page])\n",
    "    if num_links == 0:\n",
    "        for corpus_page in corpus:\n",
    "            model[corpus_page] = round(1/num_pages,5)\n",
    "    else:\n",
    "        for corpus_page in corpus:\n",
    "            model[corpus_page] = round((1-damping_factor)/num_pages,5)\n",
    "    for page_link in corpus[page]:\n",
    "        model[page_link] += round(damping_factor/num_links,5)\n",
    "    return model"
   ]
  },
  {
   "cell_type": "code",
   "execution_count": 214,
   "id": "cognitive-world",
   "metadata": {},
   "outputs": [],
   "source": [
    "def sample_pagerank(corpus, damping_factor, n):\n",
    "    \"\"\"\n",
    "    Return PageRank values for each page by sampling `n` pages\n",
    "    according to transition model, starting with a page at random.\n",
    "\n",
    "    Return a dictionary where keys are page names, and values are\n",
    "    their estimated PageRank value (a value between 0 and 1). All\n",
    "    PageRank values should sum to 1.\n",
    "    \"\"\"\n",
    "    ranks = dict()\n",
    "    samples = []\n",
    "    samples.append(random.choice(list(corpus)))\n",
    "    sampler = 1\n",
    "    while sampler < n:\n",
    "        sampler += 1\n",
    "        model = transition_model(corpus, samples[-1], damping_factor)\n",
    "        samples.append(random.choices(list(model),model.values())[0])\n",
    "    for corpus_page in corpus:\n",
    "        ranks[corpus_page] = round(samples.count(corpus_page)/n,5)\n",
    "    return ranks"
   ]
  },
  {
   "cell_type": "code",
   "execution_count": 324,
   "id": "fundamental-berkeley",
   "metadata": {},
   "outputs": [],
   "source": [
    "def iterate_pagerank(corpus, damping_factor):\n",
    "    \"\"\"\n",
    "    Return PageRank values for each page by iteratively updating\n",
    "    PageRank values until convergence.\n",
    "\n",
    "    Return a dictionary where keys are page names, and values are\n",
    "    their estimated PageRank value (a value between 0 and 1). All\n",
    "    PageRank values should sum to 1.\n",
    "    \"\"\"\n",
    "    ranks = dict()\n",
    "    up_ranks = dict()\n",
    "    num_pages = len(corpus)\n",
    "    for corpus_page in corpus:\n",
    "        ranks[corpus_page] = round(1/num_pages,5)\n",
    "    while True:\n",
    "        for p in corpus:\n",
    "            up_ranks[p] = round((1-damping_factor)/num_pages,5)\n",
    "            for i in corpus:\n",
    "                if p in corpus[i] and len(corpus[i]) != 0:\n",
    "                    up_ranks[p] += round((damping_factor * ranks[i])/len(corpus[i]),5)\n",
    "                elif len(corpus[i]) == 0:\n",
    "                    up_ranks[p] += round((damping_factor * ranks[i])/num_pages,5)\n",
    "        if all([i-j <= 0.001 for i,j in zip(ranks.values(),up_ranks.values())]):\n",
    "            ranks = up_ranks.copy()\n",
    "            break\n",
    "        else:\n",
    "            ranks = up_ranks.copy()\n",
    "    return ranks\n"
   ]
  },
  {
   "cell_type": "code",
   "execution_count": 325,
   "id": "daily-segment",
   "metadata": {},
   "outputs": [],
   "source": [
    "test_corpus = {\"1.html\": {\"2.html\", \"3.html\"}, \"2.html\": {\"3.html\"}, \"3.html\": {\"2.html\"}}\n",
    "test_damping = 0.85\n",
    "test_page = \"1.html\"\n",
    "test_sample = iterate_pagerank(test_corpus,test_damping)"
   ]
  },
  {
   "cell_type": "code",
   "execution_count": 326,
   "id": "separated-couple",
   "metadata": {},
   "outputs": [
    {
     "data": {
      "text/plain": [
       "{'1.html': 0.05, '2.html': 0.475, '3.html': 0.475}"
      ]
     },
     "execution_count": 326,
     "metadata": {},
     "output_type": "execute_result"
    }
   ],
   "source": [
    "test_sample"
   ]
  },
  {
   "cell_type": "code",
   "execution_count": 80,
   "id": "painful-amino",
   "metadata": {},
   "outputs": [
    {
     "data": {
      "text/plain": [
       "'2.html'"
      ]
     },
     "execution_count": 80,
     "metadata": {},
     "output_type": "execute_result"
    }
   ],
   "source": [
    "random.choice(list(test_corpus))"
   ]
  },
  {
   "cell_type": "code",
   "execution_count": 49,
   "id": "directed-poultry",
   "metadata": {},
   "outputs": [
    {
     "data": {
      "text/plain": [
       "45.23"
      ]
     },
     "execution_count": 49,
     "metadata": {},
     "output_type": "execute_result"
    }
   ],
   "source": [
    "round(45.23,5)"
   ]
  },
  {
   "cell_type": "code",
   "execution_count": 54,
   "id": "manufactured-distinction",
   "metadata": {},
   "outputs": [
    {
     "data": {
      "text/plain": [
       "2"
      ]
     },
     "execution_count": 54,
     "metadata": {},
     "output_type": "execute_result"
    }
   ],
   "source": [
    "len(test_corpus[test_page])"
   ]
  },
  {
   "cell_type": "code",
   "execution_count": 81,
   "id": "occupied-equilibrium",
   "metadata": {},
   "outputs": [
    {
     "data": {
      "text/plain": [
       "['1.html', '2.html', '3.html']"
      ]
     },
     "execution_count": 81,
     "metadata": {},
     "output_type": "execute_result"
    }
   ],
   "source": [
    "list(test_corpus)"
   ]
  },
  {
   "cell_type": "code",
   "execution_count": 89,
   "id": "generous-sense",
   "metadata": {},
   "outputs": [
    {
     "data": {
      "text/plain": [
       "'c'"
      ]
     },
     "execution_count": 89,
     "metadata": {},
     "output_type": "execute_result"
    }
   ],
   "source": [
    "samples =[\"a\",\"b\", \"c\"]\n",
    "samples[-1]"
   ]
  },
  {
   "cell_type": "code",
   "execution_count": 108,
   "id": "dietary-portugal",
   "metadata": {},
   "outputs": [
    {
     "data": {
      "text/plain": [
       "{'1.html': 0.05, '2.html': 0.475, '3.html': 0.475}"
      ]
     },
     "execution_count": 108,
     "metadata": {},
     "output_type": "execute_result"
    }
   ],
   "source": [
    "test_dic"
   ]
  },
  {
   "cell_type": "code",
   "execution_count": 163,
   "id": "altered-mayor",
   "metadata": {},
   "outputs": [
    {
     "data": {
      "text/plain": [
       "['3.html']"
      ]
     },
     "execution_count": 163,
     "metadata": {},
     "output_type": "execute_result"
    }
   ],
   "source": [
    "random.choices(list(test_dic.keys()), test_dic.values())"
   ]
  },
  {
   "cell_type": "code",
   "execution_count": 164,
   "id": "coated-hometown",
   "metadata": {},
   "outputs": [],
   "source": [
    "test_corpus = {\"1.html\": {\"2.html\", \"3.html\"}, \"2.html\": {\"3.html\"}, \"3.html\": {\"2.html\"}}\n",
    "test_damping = 0.85\n",
    "test_page = \"1.html\"\n"
   ]
  },
  {
   "cell_type": "code",
   "execution_count": 188,
   "id": "nervous-terrorist",
   "metadata": {},
   "outputs": [
    {
     "ename": "NameError",
     "evalue": "name 'count' is not defined",
     "output_type": "error",
     "traceback": [
      "\u001b[1;31m---------------------------------------------------------------------------\u001b[0m",
      "\u001b[1;31mNameError\u001b[0m                                 Traceback (most recent call last)",
      "\u001b[1;32m<ipython-input-188-ea0e94dac058>\u001b[0m in \u001b[0;36m<module>\u001b[1;34m\u001b[0m\n\u001b[1;32m----> 1\u001b[1;33m \u001b[0mcount\u001b[0m\u001b[1;33m(\u001b[0m\u001b[0mtest_sample\u001b[0m\u001b[1;33m)\u001b[0m\u001b[1;33m\u001b[0m\u001b[1;33m\u001b[0m\u001b[0m\n\u001b[0m",
      "\u001b[1;31mNameError\u001b[0m: name 'count' is not defined"
     ]
    }
   ],
   "source": []
  },
  {
   "cell_type": "code",
   "execution_count": 182,
   "id": "introductory-galaxy",
   "metadata": {},
   "outputs": [],
   "source": [
    "samples.append(random.choices(list(model),model.values())[0])"
   ]
  },
  {
   "cell_type": "code",
   "execution_count": 265,
   "id": "adjacent-rochester",
   "metadata": {},
   "outputs": [
    {
     "name": "stdout",
     "output_type": "stream",
     "text": [
      "{'1.html': {'2.html', '3.html'}, '2.html': {'3.html'}, '3.html': {'2.html'}}\n",
      "{'1.html': 0.33333, '2.html': 0.33333, '3.html': 0.33333}\n"
     ]
    }
   ],
   "source": [
    "print(test_corpus)\n",
    "print(test_sample)\n"
   ]
  },
  {
   "cell_type": "code",
   "execution_count": 266,
   "id": "extensive-iceland",
   "metadata": {},
   "outputs": [],
   "source": [
    "ranks = dict()\n",
    "num_pages = len(test_corpus)\n",
    "for corpus_page in test_corpus:\n",
    "    ranks[corpus_page] = round(1/num_pages,5)"
   ]
  },
  {
   "cell_type": "code",
   "execution_count": 277,
   "id": "looking-bachelor",
   "metadata": {},
   "outputs": [
    {
     "data": {
      "text/plain": [
       "True"
      ]
     },
     "execution_count": 277,
     "metadata": {},
     "output_type": "execute_result"
    }
   ],
   "source": [
    "all([i-j <= 0.001 for i,j in zip(ranks.values(),ranks.values())])"
   ]
  },
  {
   "cell_type": "code",
   "execution_count": 258,
   "id": "developmental-maldives",
   "metadata": {},
   "outputs": [
    {
     "data": {
      "text/plain": [
       "[False, False, True, False]"
      ]
     },
     "execution_count": 258,
     "metadata": {},
     "output_type": "execute_result"
    }
   ],
   "source": [
    "[(value>value2) for value in a for value2 in a]"
   ]
  },
  {
   "cell_type": "code",
   "execution_count": 250,
   "id": "minor-korea",
   "metadata": {},
   "outputs": [
    {
     "data": {
      "text/plain": [
       "(1, False, {'1': 1, '2': 2})"
      ]
     },
     "execution_count": 250,
     "metadata": {},
     "output_type": "execute_result"
    }
   ],
   "source": [
    "1,2 in a,a"
   ]
  },
  {
   "cell_type": "code",
   "execution_count": 263,
   "id": "acceptable-tulsa",
   "metadata": {},
   "outputs": [
    {
     "name": "stdout",
     "output_type": "stream",
     "text": [
      "('1', '1')\n",
      "('2', '2')\n"
     ]
    },
    {
     "data": {
      "text/plain": [
       "[None, None]"
      ]
     },
     "execution_count": 263,
     "metadata": {},
     "output_type": "execute_result"
    }
   ],
   "source": [
    "[print(i) for i in zip(a,a)]"
   ]
  },
  {
   "cell_type": "code",
   "execution_count": 281,
   "id": "convenient-liabilities",
   "metadata": {},
   "outputs": [],
   "source": [
    "test_sample = test_sample"
   ]
  },
  {
   "cell_type": "code",
   "execution_count": 282,
   "id": "bizarre-march",
   "metadata": {},
   "outputs": [],
   "source": [
    "test_sample2 = test_sample"
   ]
  },
  {
   "cell_type": "code",
   "execution_count": 286,
   "id": "external-exception",
   "metadata": {},
   "outputs": [],
   "source": [
    "test_sample2[\"1.html\"] = 40"
   ]
  },
  {
   "cell_type": "code",
   "execution_count": 292,
   "id": "bound-evidence",
   "metadata": {},
   "outputs": [
    {
     "data": {
      "text/plain": [
       "{'1.html': 40, '2.html': 0.33333, '3.html': 0.33333}"
      ]
     },
     "execution_count": 292,
     "metadata": {},
     "output_type": "execute_result"
    }
   ],
   "source": [
    "test_sample"
   ]
  },
  {
   "cell_type": "code",
   "execution_count": 288,
   "id": "alleged-positive",
   "metadata": {},
   "outputs": [],
   "source": [
    "test_sample3 = test_sample.copy()"
   ]
  },
  {
   "cell_type": "code",
   "execution_count": 291,
   "id": "complete-walter",
   "metadata": {},
   "outputs": [
    {
     "data": {
      "text/plain": [
       "{'1.html': 20, '2.html': 0.33333, '3.html': 0.33333}"
      ]
     },
     "execution_count": 291,
     "metadata": {},
     "output_type": "execute_result"
    }
   ],
   "source": [
    "test_sample3"
   ]
  },
  {
   "cell_type": "code",
   "execution_count": 302,
   "id": "fluid-watts",
   "metadata": {},
   "outputs": [],
   "source": [
    "test = test_corpus.copy()"
   ]
  },
  {
   "cell_type": "code",
   "execution_count": 305,
   "id": "analyzed-latin",
   "metadata": {},
   "outputs": [
    {
     "data": {
      "text/plain": [
       "2"
      ]
     },
     "execution_count": 305,
     "metadata": {},
     "output_type": "execute_result"
    }
   ],
   "source": [
    "len(test[\"1.html\"])"
   ]
  },
  {
   "cell_type": "code",
   "execution_count": null,
   "id": "heavy-joint",
   "metadata": {},
   "outputs": [],
   "source": []
  }
 ],
 "metadata": {
  "kernelspec": {
   "display_name": "Python 3",
   "language": "python",
   "name": "python3"
  },
  "language_info": {
   "codemirror_mode": {
    "name": "ipython",
    "version": 3
   },
   "file_extension": ".py",
   "mimetype": "text/x-python",
   "name": "python",
   "nbconvert_exporter": "python",
   "pygments_lexer": "ipython3",
   "version": "3.8.6"
  }
 },
 "nbformat": 4,
 "nbformat_minor": 5
}
