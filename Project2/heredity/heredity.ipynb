{
 "cells": [
  {
   "cell_type": "code",
   "execution_count": 12,
   "id": "under-therapist",
   "metadata": {},
   "outputs": [],
   "source": [
    "import csv\n",
    "import itertools\n",
    "import sys\n",
    "\n",
    "PROBS = {\n",
    "\n",
    "    # Unconditional probabilities for having gene\n",
    "    \"gene\": {\n",
    "        2: 0.01,\n",
    "        1: 0.03,\n",
    "        0: 0.96\n",
    "    },\n",
    "\n",
    "    \"trait\": {\n",
    "\n",
    "        # Probability of trait given two copies of gene\n",
    "        2: {\n",
    "            True: 0.65,\n",
    "            False: 0.35\n",
    "        },\n",
    "\n",
    "        # Probability of trait given one copy of gene\n",
    "        1: {\n",
    "            True: 0.56,\n",
    "            False: 0.44\n",
    "        },\n",
    "\n",
    "        # Probability of trait given no gene\n",
    "        0: {\n",
    "            True: 0.01,\n",
    "            False: 0.99\n",
    "        }\n",
    "    },\n",
    "\n",
    "    # Mutation probability\n",
    "    \"mutation\": 0.01\n",
    "}\n",
    "\n",
    "\n",
    "def load_data(filename):\n",
    "    \"\"\"\n",
    "    Load gene and trait data from a file into a dictionary.\n",
    "    File assumed to be a CSV containing fields name, mother, father, trait.\n",
    "    mother, father must both be blank, or both be valid names in the CSV.\n",
    "    trait should be 0 or 1 if trait is known, blank otherwise.\n",
    "    \"\"\"\n",
    "    data = dict()\n",
    "    with open(filename) as f:\n",
    "        reader = csv.DictReader(f)\n",
    "        for row in reader:\n",
    "            name = row[\"name\"]\n",
    "            data[name] = {\n",
    "                \"name\": name,\n",
    "                \"mother\": row[\"mother\"] or None,\n",
    "                \"father\": row[\"father\"] or None,\n",
    "                \"trait\": (True if row[\"trait\"] == \"1\" else\n",
    "                          False if row[\"trait\"] == \"0\" else None)\n",
    "            }\n",
    "    return data\n",
    "\n",
    "\n",
    "def powerset(s):\n",
    "    \"\"\"\n",
    "    Return a list of all possible subsets of set s.\n",
    "    \"\"\"\n",
    "    s = list(s)\n",
    "    return [\n",
    "        set(s) for s in itertools.chain.from_iterable(\n",
    "            itertools.combinations(s, r) for r in range(len(s) + 1)\n",
    "        )\n",
    "    ]"
   ]
  },
  {
   "cell_type": "code",
   "execution_count": 13,
   "id": "short-booth",
   "metadata": {},
   "outputs": [],
   "source": [
    "people = load_data(\"data/family0.csv\")\n",
    "names = set(people)\n",
    "powernames = powerset(names)"
   ]
  },
  {
   "cell_type": "code",
   "execution_count": 27,
   "id": "hidden-occasion",
   "metadata": {},
   "outputs": [],
   "source": [
    "tester = [people,{\"Harry\"},{\"James\"},{\"James\"}]"
   ]
  },
  {
   "cell_type": "code",
   "execution_count": 33,
   "id": "atlantic-struggle",
   "metadata": {},
   "outputs": [],
   "source": [
    "def joint_probability(people, one_gene, two_genes, have_trait):\n",
    "    \"\"\"\n",
    "    Compute and return a joint probability.\n",
    "\n",
    "    The probability returned should be the probability that\n",
    "        * everyone in set `one_gene` has one copy of the gene, and\n",
    "        * everyone in set `two_genes` has two copies of the gene, and\n",
    "        * everyone not in `one_gene` or `two_gene` does not have the gene, and\n",
    "        * everyone in set `have_trait` has the trait, and\n",
    "        * everyone not in set` have_trait` does not have the trait.\n",
    "    \"\"\"\n",
    "    #track genes and traits\n",
    "    genes = dict()\n",
    "    traits = dict()\n",
    "    for person in people:\n",
    "        if person in one_gene:\n",
    "            genes[person] = 1\n",
    "        elif person in two_genes:\n",
    "            genes[person] = 2\n",
    "        else:\n",
    "            genes[person] = 0\n",
    "        \n",
    "        if person in have_trait:\n",
    "            traits[person] = True\n",
    "        else:\n",
    "            traits[person] = False\n",
    "\n",
    "    #probabilities\n",
    "    probability = 1\n",
    "    for person in people:\n",
    "        #no parents\n",
    "        if people[person]['mother'] == people[person]['father']:\n",
    "            probability *= PROBS[\"gene\"][genes[person]]*PROBS[\"trait\"][genes[person]][traits[person]]\n",
    "        #parents\n",
    "        else:\n",
    "            probability *= heritage(people,person, genes, genes[person]) * PROBS[\"trait\"][genes[person]][traits[person]]\n",
    "    return probability\n",
    "\n",
    "#gene probability based on parents\n",
    "def heritage(people, person, genes, goal):\n",
    "    father = people[person]['father']\n",
    "    mother = people[person]['mother']\n",
    "    pass_prob = {father : float(1), mother: float(1) }\n",
    "    for parent in pass_prob:\n",
    "        if genes[parent] == 1:\n",
    "            pass_prob[parent] = 0.5\n",
    "        elif genes[parent] == 2:\n",
    "            pass_prob[parent] = 1 - PROBS['mutation']\n",
    "        else:\n",
    "            pass_prob[parent] = PROBS['mutation']\n",
    "    if goal == 1:\n",
    "        return pass_prob[father]*(1 - pass_prob[mother]) + pass_prob[mother]*(1 - pass_prob[father])\n",
    "    elif goal == 2:\n",
    "        return pass_prob[father]*pass_prob[mother]\n",
    "    else:\n",
    "        return (1 - pass_prob[father])*(1 - pass_prob[mother])\n",
    "\n"
   ]
  },
  {
   "cell_type": "code",
   "execution_count": 137,
   "id": "native-humidity",
   "metadata": {},
   "outputs": [],
   "source": [
    "probabilities = {\n",
    "        person: {\n",
    "            \"gene\": {\n",
    "                2: 0,\n",
    "                1: 0,\n",
    "                0: 0\n",
    "            },\n",
    "            \"trait\": {\n",
    "                True: 0,\n",
    "                False: 0\n",
    "            }\n",
    "        }\n",
    "        for person in people\n",
    "    }"
   ]
  },
  {
   "cell_type": "code",
   "execution_count": 53,
   "id": "pressed-baseline",
   "metadata": {},
   "outputs": [],
   "source": [
    "def update(probabilities, one_gene, two_genes, have_trait, p):\n",
    "    \"\"\"\n",
    "    Add to `probabilities` a new joint probability `p`.\n",
    "    Each person should have their \"gene\" and \"trait\" distributions updated.\n",
    "    Which value for each distribution is updated depends on whether\n",
    "    the person is in `have_gene` and `have_trait`, respectively.\n",
    "    \"\"\"\n",
    "    #track genes and traits\n",
    "    genes = dict()\n",
    "    traits = dict()\n",
    "    for person in probabilities:\n",
    "        if person in one_gene:\n",
    "            genes[person] = 1\n",
    "        elif person in two_genes:\n",
    "            genes[person] = 2\n",
    "        else:\n",
    "            genes[person] = 0\n",
    "        \n",
    "        if person in have_trait:\n",
    "            traits[person] = True\n",
    "        else:\n",
    "            traits[person] = False\n",
    "        \n",
    "        #add probability p\n",
    "        probabilities[person]['gene'][genes[person]] += p\n",
    "        probabilities[person]['trait'][traits[person]] += p\n",
    "    return"
   ]
  },
  {
   "cell_type": "code",
   "execution_count": 138,
   "id": "subtle-adolescent",
   "metadata": {},
   "outputs": [],
   "source": [
    "def normalize(probabilities):\n",
    "    \"\"\"\n",
    "    Update `probabilities` such that each probability distribution\n",
    "    is normalized (i.e., sums to 1, with relative proportions the same).\n",
    "    \"\"\"\n",
    "    for person in probabilities:\n",
    "        gene = probabilities[person]['gene']\n",
    "        trait = probabilities[person]['trait']\n",
    "        sum_gene = sum(gene.values())\n",
    "        sum_trait = sum(trait.values())\n",
    "        gene = {k: v/sum_gene for k, v in gene.items()} if sum_gene != 0 else {k:1/3 for k in gene}\n",
    "        probabilities[person]['gene'] = gene\n",
    "        trait = {k: v/sum_trait for k, v in trait.items()} if sum_trait != 0 else {k:1/3 for k in trait}\n",
    "        probabilities[person]['trait'] = trait"
   ]
  },
  {
   "cell_type": "code",
   "execution_count": 107,
   "id": "signed-lexington",
   "metadata": {},
   "outputs": [],
   "source": [
    "tester2 = [probabilities, {\"Harry\"}, {\"James\"}, {\"James\"}, 0.0026643247488]"
   ]
  },
  {
   "cell_type": "code",
   "execution_count": 108,
   "id": "leading-stand",
   "metadata": {},
   "outputs": [],
   "source": [
    "update(*tester2)"
   ]
  },
  {
   "cell_type": "code",
   "execution_count": 140,
   "id": "administrative-yemen",
   "metadata": {},
   "outputs": [],
   "source": [
    "normalize(probabilities)"
   ]
  },
  {
   "cell_type": "code",
   "execution_count": 141,
   "id": "approximate-assets",
   "metadata": {},
   "outputs": [
    {
     "data": {
      "text/plain": [
       "{'Harry': {'gene': {2: 0.3333333333333333,\n",
       "   1: 0.3333333333333333,\n",
       "   0: 0.3333333333333333},\n",
       "  'trait': {True: 0.3333333333333333, False: 0.3333333333333333}},\n",
       " 'James': {'gene': {2: 0.3333333333333333,\n",
       "   1: 0.3333333333333333,\n",
       "   0: 0.3333333333333333},\n",
       "  'trait': {True: 0.3333333333333333, False: 0.3333333333333333}},\n",
       " 'Lily': {'gene': {2: 0.3333333333333333,\n",
       "   1: 0.3333333333333333,\n",
       "   0: 0.3333333333333333},\n",
       "  'trait': {True: 0.3333333333333333, False: 0.3333333333333333}}}"
      ]
     },
     "execution_count": 141,
     "metadata": {},
     "output_type": "execute_result"
    }
   ],
   "source": [
    "probabilities"
   ]
  },
  {
   "cell_type": "code",
   "execution_count": 93,
   "id": "strategic-hypothetical",
   "metadata": {},
   "outputs": [
    {
     "data": {
      "text/plain": [
       "1"
      ]
     },
     "execution_count": 93,
     "metadata": {},
     "output_type": "execute_result"
    }
   ],
   "source": [
    "probabilities['Harry']['gene']"
   ]
  },
  {
   "cell_type": "code",
   "execution_count": 69,
   "id": "corporate-protein",
   "metadata": {},
   "outputs": [
    {
     "data": {
      "text/plain": [
       "1.0"
      ]
     },
     "execution_count": 69,
     "metadata": {},
     "output_type": "execute_result"
    }
   ],
   "source": [
    "sum(new_test.values())"
   ]
  },
  {
   "cell_type": "code",
   "execution_count": 72,
   "id": "internal-flooring",
   "metadata": {},
   "outputs": [
    {
     "data": {
      "text/plain": [
       "dict_values([{'gene': {2: 0, 1: 0, 0: 0}, 'trait': {True: 0, False: 0}}, {'gene': {2: 0, 1: 0, 0: 0}, 'trait': {True: 0, False: 0}}, {'gene': {2: 0, 1: 0, 0: 0}, 'trait': {True: 0, False: 0}}])"
      ]
     },
     "execution_count": 72,
     "metadata": {},
     "output_type": "execute_result"
    }
   ],
   "source": [
    "probabilities.values()"
   ]
  },
  {
   "cell_type": "code",
   "execution_count": 81,
   "id": "wrapped-sessions",
   "metadata": {},
   "outputs": [
    {
     "name": "stdout",
     "output_type": "stream",
     "text": [
      "2\n",
      "1\n",
      "0\n",
      "2\n",
      "1\n",
      "0\n",
      "2\n",
      "1\n",
      "0\n"
     ]
    }
   ],
   "source": [
    "for person in probabilities:\n",
    "    for gene in probabilities[person]['gene']:\n",
    "        print(gene)"
   ]
  },
  {
   "cell_type": "code",
   "execution_count": null,
   "id": "reliable-swing",
   "metadata": {},
   "outputs": [],
   "source": []
  }
 ],
 "metadata": {
  "kernelspec": {
   "display_name": "Python 3",
   "language": "python",
   "name": "python3"
  },
  "language_info": {
   "codemirror_mode": {
    "name": "ipython",
    "version": 3
   },
   "file_extension": ".py",
   "mimetype": "text/x-python",
   "name": "python",
   "nbconvert_exporter": "python",
   "pygments_lexer": "ipython3",
   "version": "3.8.6"
  }
 },
 "nbformat": 4,
 "nbformat_minor": 5
}
