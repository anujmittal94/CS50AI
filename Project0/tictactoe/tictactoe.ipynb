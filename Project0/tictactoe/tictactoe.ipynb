{
 "cells": [
  {
   "cell_type": "code",
   "execution_count": 31,
   "id": "dress-explanation",
   "metadata": {},
   "outputs": [],
   "source": [
    "test_board = [[X, O, EMPTY],\n",
    "            [X, O, EMPTY],\n",
    "            [EMPTY, EMPTY, X]]"
   ]
  },
  {
   "cell_type": "code",
   "execution_count": 1,
   "id": "proper-taxation",
   "metadata": {},
   "outputs": [],
   "source": [
    "\"\"\"\n",
    "Tic Tac Toe Player\n",
    "\"\"\"\n",
    "\n",
    "import math\n",
    "import copy\n",
    "\n",
    "X = \"X\"\n",
    "O = \"O\"\n",
    "EMPTY = None"
   ]
  },
  {
   "cell_type": "code",
   "execution_count": 2,
   "id": "directed-crisis",
   "metadata": {},
   "outputs": [],
   "source": [
    "def initial_state():\n",
    "    \"\"\"\n",
    "    Returns starting state of the board.\n",
    "    \"\"\"\n",
    "    return [[EMPTY, EMPTY, EMPTY],\n",
    "            [EMPTY, EMPTY, EMPTY],\n",
    "            [EMPTY, EMPTY, EMPTY]]\n"
   ]
  },
  {
   "cell_type": "code",
   "execution_count": 24,
   "id": "documented-jacket",
   "metadata": {},
   "outputs": [],
   "source": [
    "def player(board):\n",
    "    \"\"\"\n",
    "    Returns player who has the next turn on a board.\n",
    "    \"\"\"\n",
    "    num_x = sum([list.count(X) for list in board])\n",
    "    num_o = sum([list.count(O) for list in board])\n",
    "    if num_x == num_o:\n",
    "        return X\n",
    "    else:\n",
    "        return O"
   ]
  },
  {
   "cell_type": "code",
   "execution_count": 30,
   "id": "incorporated-portal",
   "metadata": {},
   "outputs": [
    {
     "data": {
      "text/plain": [
       "'O'"
      ]
     },
     "execution_count": 30,
     "metadata": {},
     "output_type": "execute_result"
    }
   ],
   "source": [
    "player(test_board)"
   ]
  },
  {
   "cell_type": "code",
   "execution_count": 8,
   "id": "uniform-presence",
   "metadata": {},
   "outputs": [],
   "source": [
    "\n",
    "def actions(board):\n",
    "    \"\"\"\n",
    "    Returns set of all possible actions (i, j) available on the board.\n",
    "    \"\"\"\n",
    "    actions = set()\n",
    "    for i in range(3):\n",
    "        for j in range(3):\n",
    "            if board[i][j] == EMPTY:\n",
    "                actions.add((i,j))\n",
    "    return actions"
   ]
  },
  {
   "cell_type": "code",
   "execution_count": 9,
   "id": "induced-score",
   "metadata": {},
   "outputs": [
    {
     "data": {
      "text/plain": [
       "{(0, 0), (0, 1), (0, 2), (1, 0), (1, 1), (1, 2), (2, 0), (2, 1), (2, 2)}"
      ]
     },
     "execution_count": 9,
     "metadata": {},
     "output_type": "execute_result"
    }
   ],
   "source": [
    "actions(test_board)"
   ]
  },
  {
   "cell_type": "code",
   "execution_count": 10,
   "id": "combined-jumping",
   "metadata": {},
   "outputs": [],
   "source": [
    "def result(board, action):\n",
    "    \"\"\"\n",
    "    Returns the board that results from making move (i, j) on the board.\n",
    "    \"\"\"\n",
    "    board = copy.deepcopy(board)\n",
    "    if player(board) == X:\n",
    "        board[action[0]][action[1]] = X\n",
    "    else:\n",
    "        board[action[0]][action[1]] = O\n",
    "    return board"
   ]
  },
  {
   "cell_type": "code",
   "execution_count": 11,
   "id": "meaning-fancy",
   "metadata": {},
   "outputs": [
    {
     "name": "stdout",
     "output_type": "stream",
     "text": [
      "[[None, None, None], [None, None, None], [None, None, None]]\n",
      "[[None, 'X', None], [None, None, None], [None, None, None]]\n"
     ]
    }
   ],
   "source": [
    "print(test_board)\n",
    "print(result(test_board, (0,1)))"
   ]
  },
  {
   "cell_type": "code",
   "execution_count": 12,
   "id": "special-fairy",
   "metadata": {},
   "outputs": [],
   "source": [
    "\n",
    "def winner(board):\n",
    "    \"\"\"\n",
    "    Returns the winner of the game, if there is one.\n",
    "    \"\"\"\n",
    "    for i in range(3):\n",
    "        if board[i][0] == board[i][1] == board[i][2] != None:\n",
    "            return board[i][0]\n",
    "    for i in range(3):\n",
    "        if board[0][i] == board[1][i] == board[2][i] != None:\n",
    "            return board[0][i]\n",
    "    if board[0][0] == board[1][1] == board[2][2]:\n",
    "        return board[0][0]\n",
    "    if board[0][2] == board[1][1] == board[2][0]:\n",
    "        return board[0][2]\n",
    "    return None"
   ]
  },
  {
   "cell_type": "code",
   "execution_count": 13,
   "id": "cathedral-bobby",
   "metadata": {},
   "outputs": [],
   "source": [
    "winner(test_board)"
   ]
  },
  {
   "cell_type": "code",
   "execution_count": 14,
   "id": "civil-persian",
   "metadata": {},
   "outputs": [],
   "source": [
    "def terminal(board):\n",
    "    \"\"\"\n",
    "    Returns True if game is over, False otherwise.\n",
    "    \"\"\"\n",
    "    if winner(board) in [X,O] or sum([list.count(EMPTY) for list in board]) == 0:\n",
    "        return True\n",
    "    else:\n",
    "        return False\n"
   ]
  },
  {
   "cell_type": "code",
   "execution_count": 15,
   "id": "welsh-combining",
   "metadata": {},
   "outputs": [
    {
     "data": {
      "text/plain": [
       "False"
      ]
     },
     "execution_count": 15,
     "metadata": {},
     "output_type": "execute_result"
    }
   ],
   "source": [
    "terminal(test_board)"
   ]
  },
  {
   "cell_type": "code",
   "execution_count": 16,
   "id": "false-glasgow",
   "metadata": {},
   "outputs": [],
   "source": [
    "def utility(board):\n",
    "    \"\"\"\n",
    "    Returns 1 if X has won the game, -1 if O has won, 0 otherwise.\n",
    "    \"\"\"\n",
    "    status = winner(board)\n",
    "    if status == X:\n",
    "        return 1\n",
    "    elif status == O:\n",
    "        return -1\n",
    "    else:\n",
    "        return 0"
   ]
  },
  {
   "cell_type": "code",
   "execution_count": 19,
   "id": "individual-tunisia",
   "metadata": {},
   "outputs": [],
   "source": [
    "\n",
    "def minimax(board):\n",
    "    \"\"\"\n",
    "    Returns the optimal action for the current player on the board.\n",
    "    \"\"\"\n",
    "    if terminal(board):\n",
    "        return None\n",
    "    possible_actions = actions(board)\n",
    "    if player(board) == X:\n",
    "        max_utility = -math.inf\n",
    "        for action in possible_actions:\n",
    "            action_val = min_val(result(board, action))\n",
    "            if action_val > max_utility:\n",
    "                max_utility = action_val\n",
    "                optimal_action = action\n",
    "    else:\n",
    "        min_utility = math.inf\n",
    "        for action in possible_actions:\n",
    "            action_val = max_val(result(board, action))\n",
    "            if action_val < min_utility:\n",
    "                min_utility = action_val\n",
    "                optimal_action = action\n",
    "    return optimal_action"
   ]
  },
  {
   "cell_type": "code",
   "execution_count": 33,
   "id": "fantastic-bangkok",
   "metadata": {},
   "outputs": [],
   "source": [
    "def max_val(board):\n",
    "    v = -math.inf\n",
    "    if terminal(board):\n",
    "        return utility(board)\n",
    "    for action in actions(board):\n",
    "        v = max(v,min_val(result(board,action)))\n",
    "    return v"
   ]
  },
  {
   "cell_type": "code",
   "execution_count": 34,
   "id": "superb-lottery",
   "metadata": {},
   "outputs": [],
   "source": [
    "def min_val(board):\n",
    "    v = math.inf\n",
    "    if terminal(board):\n",
    "        return utility(board)\n",
    "    for action in actions(board):\n",
    "        v = min(v,max_val(result(board,action)))\n",
    "    return v"
   ]
  },
  {
   "cell_type": "code",
   "execution_count": 36,
   "id": "southeast-blocking",
   "metadata": {},
   "outputs": [
    {
     "data": {
      "text/plain": [
       "(2, 0)"
      ]
     },
     "execution_count": 36,
     "metadata": {},
     "output_type": "execute_result"
    }
   ],
   "source": [
    "minimax(test_board)"
   ]
  },
  {
   "cell_type": "code",
   "execution_count": null,
   "id": "objective-natural",
   "metadata": {},
   "outputs": [],
   "source": []
  },
  {
   "cell_type": "code",
   "execution_count": null,
   "id": "tutorial-earthquake",
   "metadata": {},
   "outputs": [],
   "source": []
  }
 ],
 "metadata": {
  "kernelspec": {
   "display_name": "Python 3",
   "language": "python",
   "name": "python3"
  },
  "language_info": {
   "codemirror_mode": {
    "name": "ipython",
    "version": 3
   },
   "file_extension": ".py",
   "mimetype": "text/x-python",
   "name": "python",
   "nbconvert_exporter": "python",
   "pygments_lexer": "ipython3",
   "version": "3.8.6"
  }
 },
 "nbformat": 4,
 "nbformat_minor": 5
}
