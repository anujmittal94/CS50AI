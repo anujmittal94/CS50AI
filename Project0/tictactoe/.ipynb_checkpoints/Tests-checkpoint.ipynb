{
 "cells": [
  {
   "cell_type": "code",
   "execution_count": 3,
   "id": "herbal-settle",
   "metadata": {},
   "outputs": [],
   "source": [
    "\"\"\"\n",
    "Tic Tac Toe Player\n",
    "\"\"\"\n",
    "\n",
    "import math\n",
    "import copy\n",
    "\n",
    "X = \"X\"\n",
    "O = \"O\"\n",
    "EMPTY = None"
   ]
  },
  {
   "cell_type": "code",
   "execution_count": 85,
   "id": "extended-needle",
   "metadata": {},
   "outputs": [],
   "source": [
    "test_board = [[X, EMPTY, EMPTY],\n",
    "            [O, X, EMPTY],\n",
    "            [O, EMPTY, EMPTY]]"
   ]
  },
  {
   "cell_type": "code",
   "execution_count": 5,
   "id": "hazardous-victoria",
   "metadata": {},
   "outputs": [],
   "source": [
    "def initial_state():\n",
    "    \"\"\"\n",
    "    Returns starting state of the board.\n",
    "    \"\"\"\n",
    "    return [[EMPTY, EMPTY, EMPTY],\n",
    "            [EMPTY, EMPTY, EMPTY],\n",
    "            [EMPTY, EMPTY, EMPTY]]\n"
   ]
  },
  {
   "cell_type": "code",
   "execution_count": 76,
   "id": "willing-hands",
   "metadata": {},
   "outputs": [],
   "source": [
    "def player(board):\n",
    "    \"\"\"\n",
    "    Returns player who has the next turn on a board.\n",
    "    \"\"\"\n",
    "    num_x = sum([list.count(X) for list in board])\n",
    "    num_o = sum([list.count(O) for list in board])\n",
    "    if num_x > num_o:\n",
    "        return X\n",
    "    else:\n",
    "        return O"
   ]
  },
  {
   "cell_type": "code",
   "execution_count": 77,
   "id": "retired-profile",
   "metadata": {},
   "outputs": [
    {
     "data": {
      "text/plain": [
       "'X'"
      ]
     },
     "execution_count": 77,
     "metadata": {},
     "output_type": "execute_result"
    }
   ],
   "source": [
    "player(test_board)"
   ]
  },
  {
   "cell_type": "code",
   "execution_count": 56,
   "id": "competent-image",
   "metadata": {},
   "outputs": [],
   "source": [
    "\n",
    "def actions(board):\n",
    "    \"\"\"\n",
    "    Returns set of all possible actions (i, j) available on the board.\n",
    "    \"\"\"\n",
    "    actions = set()\n",
    "    for i in range(3):\n",
    "        for j in range(3):\n",
    "            if board[i][j] == EMPTY:\n",
    "                actions.add((i,j))\n",
    "    return actions"
   ]
  },
  {
   "cell_type": "code",
   "execution_count": 79,
   "id": "departmental-battle",
   "metadata": {},
   "outputs": [
    {
     "data": {
      "text/plain": [
       "{(2, 1), (2, 2)}"
      ]
     },
     "execution_count": 79,
     "metadata": {},
     "output_type": "execute_result"
    }
   ],
   "source": [
    "actions(test_board)"
   ]
  },
  {
   "cell_type": "code",
   "execution_count": 78,
   "id": "frank-mambo",
   "metadata": {},
   "outputs": [],
   "source": [
    "def result(board, action):\n",
    "    \"\"\"\n",
    "    Returns the board that results from making move (i, j) on the board.\n",
    "    \"\"\"\n",
    "    board = copy.deepcopy(board)\n",
    "    if player(board) == X:\n",
    "        board[action[0]][action[1]] = X\n",
    "    else:\n",
    "        board[action[0]][action[1]] = O\n",
    "    return board"
   ]
  },
  {
   "cell_type": "code",
   "execution_count": 80,
   "id": "graduate-temple",
   "metadata": {},
   "outputs": [
    {
     "name": "stdout",
     "output_type": "stream",
     "text": [
      "[['O', 'X', 'X'], ['O', 'O', 'X'], ['X', None, None]]\n",
      "[['O', 'X', 'X'], ['O', 'O', 'X'], ['X', None, None]]\n"
     ]
    }
   ],
   "source": [
    "print(test_board)\n",
    "print(result(test_board, (0,1)))"
   ]
  },
  {
   "cell_type": "code",
   "execution_count": 81,
   "id": "medium-homeless",
   "metadata": {},
   "outputs": [],
   "source": [
    "\n",
    "def winner(board):\n",
    "    \"\"\"\n",
    "    Returns the winner of the game, if there is one.\n",
    "    \"\"\"\n",
    "    for i in range(3):\n",
    "        if board[i][0] == board[i][1] == board[i][2] != None:\n",
    "            return board[i][0]\n",
    "    for i in range(3):\n",
    "        if board[0][i] == board[1][i] == board[2][i] != None:\n",
    "            return board[0][i]\n",
    "    if board[0][0] == board[1][1] == board[2][2]:\n",
    "        return board[0][0]\n",
    "    if board[0][2] == board[1][1] == board[2][0]:\n",
    "        return board[0][2]\n",
    "    return None"
   ]
  },
  {
   "cell_type": "code",
   "execution_count": 82,
   "id": "authorized-newton",
   "metadata": {},
   "outputs": [],
   "source": [
    "winner(test_board)"
   ]
  },
  {
   "cell_type": "code",
   "execution_count": 44,
   "id": "comparative-stomach",
   "metadata": {},
   "outputs": [],
   "source": [
    "def terminal(board):\n",
    "    \"\"\"\n",
    "    Returns True if game is over, False otherwise.\n",
    "    \"\"\"\n",
    "    if winner(board) in [X,O] or sum([list.count(EMPTY) for list in board]) == 0:\n",
    "        return True\n",
    "    else:\n",
    "        return False\n"
   ]
  },
  {
   "cell_type": "code",
   "execution_count": 59,
   "id": "sixth-couple",
   "metadata": {},
   "outputs": [
    {
     "data": {
      "text/plain": [
       "False"
      ]
     },
     "execution_count": 59,
     "metadata": {},
     "output_type": "execute_result"
    }
   ],
   "source": [
    "terminal(test_board)"
   ]
  },
  {
   "cell_type": "code",
   "execution_count": 46,
   "id": "specific-apollo",
   "metadata": {},
   "outputs": [],
   "source": [
    "def utility(board):\n",
    "    \"\"\"\n",
    "    Returns 1 if X has won the game, -1 if O has won, 0 otherwise.\n",
    "    \"\"\"\n",
    "    status = winner(board)\n",
    "    if status == X:\n",
    "        return 1\n",
    "    elif status == O:\n",
    "        return -1\n",
    "    else:\n",
    "        return 0"
   ]
  },
  {
   "cell_type": "code",
   "execution_count": 83,
   "id": "successful-surveillance",
   "metadata": {},
   "outputs": [],
   "source": [
    "\n",
    "def minimax(board):\n",
    "    \"\"\"\n",
    "    Returns the optimal action for the current player on the board.\n",
    "    \"\"\"\n",
    "    if terminal(board):\n",
    "        return None\n",
    "    possible_actions = actions(board)\n",
    "    if player(board) == X:\n",
    "        max_utility = -math.inf\n",
    "        for action in possible_actions:\n",
    "            action_val = max_val(result(board, action))\n",
    "            if action_val > max_utility:\n",
    "                max_utility = action_val\n",
    "                optimal_action = action\n",
    "    else:\n",
    "        min_utility = math.inf\n",
    "        for action in possible_actions:\n",
    "            action_val = min_val(result(board, action))\n",
    "            if action_val < min_utility:\n",
    "                min_utility = action_val\n",
    "                optimal_action = action\n",
    "    return optimal_action"
   ]
  },
  {
   "cell_type": "code",
   "execution_count": 48,
   "id": "divided-metropolitan",
   "metadata": {},
   "outputs": [],
   "source": [
    "def max_val(board):\n",
    "    v = -math.inf\n",
    "    if terminal(board):\n",
    "        return utility(board)\n",
    "    for action in actions(board):\n",
    "        v = max(v,min_val(result(board,action)))\n",
    "    return v"
   ]
  },
  {
   "cell_type": "code",
   "execution_count": 49,
   "id": "italian-canvas",
   "metadata": {},
   "outputs": [],
   "source": [
    "def min_val(board):\n",
    "    v = math.inf\n",
    "    if terminal(board):\n",
    "        return utility(board)\n",
    "    for action in actions(board):\n",
    "        v = min(v,max_val(result(board,action)))\n",
    "    return v"
   ]
  },
  {
   "cell_type": "code",
   "execution_count": 86,
   "id": "exempt-envelope",
   "metadata": {},
   "outputs": [
    {
     "data": {
      "text/plain": [
       "(0, 1)"
      ]
     },
     "execution_count": 86,
     "metadata": {},
     "output_type": "execute_result"
    }
   ],
   "source": [
    "minimax(test_board)"
   ]
  },
  {
   "cell_type": "code",
   "execution_count": null,
   "id": "danish-price",
   "metadata": {},
   "outputs": [],
   "source": []
  },
  {
   "cell_type": "code",
   "execution_count": null,
   "id": "emerging-fabric",
   "metadata": {},
   "outputs": [],
   "source": []
  }
 ],
 "metadata": {
  "kernelspec": {
   "display_name": "Python 3",
   "language": "python",
   "name": "python3"
  },
  "language_info": {
   "codemirror_mode": {
    "name": "ipython",
    "version": 3
   },
   "file_extension": ".py",
   "mimetype": "text/x-python",
   "name": "python",
   "nbconvert_exporter": "python",
   "pygments_lexer": "ipython3",
   "version": "3.8.6"
  }
 },
 "nbformat": 4,
 "nbformat_minor": 5
}
