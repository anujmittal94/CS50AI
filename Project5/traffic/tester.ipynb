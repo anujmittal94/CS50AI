{
 "cells": [
  {
   "cell_type": "code",
   "execution_count": 9,
   "id": "known-participation",
   "metadata": {},
   "outputs": [],
   "source": [
    "import cv2\n",
    "import numpy as np\n",
    "import os\n",
    "import sys\n",
    "import tensorflow as tf\n",
    "import random\n",
    "import matplotlib.pyplot as plt\n",
    "\n",
    "IMG_WIDTH = 30\n",
    "IMG_HEIGHT = 30\n",
    "data_dir = \"gtsrb\"\n",
    "test_images = \"test_images_1\"\n",
    "model_loc = \"model\"\n",
    "\n",
    "category_images = dict()\n",
    "with os.scandir(data_dir) as categories:\n",
    "    for category in categories:\n",
    "        image_loc = random.choice(os.listdir(category.path))\n",
    "        image_array = cv2.resize(cv2.imread(os.path.join(category.path, image_loc)), (IMG_WIDTH, IMG_HEIGHT))\n",
    "        category_images[category.name] = image_array\n",
    "        \n",
    "model = tf.keras.models.load_model(model_loc)\n",
    "\n",
    "with os.scandir(test_images) as images:\n",
    "    for image in images:\n",
    "        image_array = np.array([cv2.resize(cv2.imread(image.path), (IMG_WIDTH, IMG_HEIGHT))])\n",
    "        fig, axs = plt.subplots(1, 2, sharey=True)\n",
    "        axs[0].imshow(image_array[0][...,::-1])\n",
    "        axs[0].set_title(\"Image\" + str(image.name))\n",
    "        category = str(model.predict_classes(image_array)[0])\n",
    "        axs[1].imshow(category_images[category][...,::-1])\n",
    "        axs[1].set_title(\"Category \" + category)"
   ]
  }
 ],
 "metadata": {
  "kernelspec": {
   "display_name": "Python 3",
   "language": "python",
   "name": "python3"
  },
  "language_info": {
   "codemirror_mode": {
    "name": "ipython",
    "version": 3
   },
   "file_extension": ".py",
   "mimetype": "text/x-python",
   "name": "python",
   "nbconvert_exporter": "python",
   "pygments_lexer": "ipython3",
   "version": "3.8.6"
  }
 },
 "nbformat": 4,
 "nbformat_minor": 5
}
